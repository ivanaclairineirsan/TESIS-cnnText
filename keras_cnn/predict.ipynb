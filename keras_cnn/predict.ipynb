{
 "cells": [
  {
   "cell_type": "code",
   "execution_count": 1,
   "metadata": {},
   "outputs": [
    {
     "name": "stderr",
     "output_type": "stream",
     "text": [
      "c:\\users\\ivana clairine\\appdata\\local\\programs\\python\\python35\\lib\\site-packages\\h5py\\__init__.py:36: FutureWarning: Conversion of the second argument of issubdtype from `float` to `np.floating` is deprecated. In future, it will be treated as `np.float64 == np.dtype(float).type`.\n",
      "  from ._conv import register_converters as _register_converters\n",
      "Using TensorFlow backend.\n"
     ]
    }
   ],
   "source": [
    "from keras.layers import Input, Dense, Embedding, Conv2D, MaxPool2D\n",
    "from keras.layers import Reshape, Flatten, Dropout, Concatenate\n",
    "from keras.callbacks import ModelCheckpoint\n",
    "from keras.optimizers import Adam, Adadelta\n",
    "from keras.models import Model\n",
    "from keras.models import model_from_json\n",
    "from sklearn.model_selection import train_test_split\n",
    "from data_helpers import load_data\n",
    "from data_helpers import load_data_embeddings_vocab\n",
    "from data_helpers import get_embeddings\n",
    "from data_helpers import load_test_data_separate_files\n",
    "from data_helpers import string_to_input_data\n",
    "import h5py\n",
    "from imblearn.over_sampling import SMOTE\n",
    "import numpy as np\n",
    "from collections import Counter\n",
    "import simplejson\n",
    "import pickle"
   ]
  },
  {
   "cell_type": "code",
   "execution_count": 2,
   "metadata": {
    "collapsed": true
   },
   "outputs": [],
   "source": [
    "def countF1(predicted, actual):\n",
    "    true_pos = 0\n",
    "    true_neg = 0\n",
    "    false_pos = 0\n",
    "    false_neg = 0\n",
    "    for i in range(len(predicted)):\n",
    "        if(predicted[i] == 1 and actual[i] == 1):\n",
    "            true_pos = true_pos+1\n",
    "        if(predicted[i] == 1 and actual[i] == 0):\n",
    "            false_pos = false_pos+1\n",
    "        if(predicted[i] == 0 and actual[i] == 1):\n",
    "            false_neg = false_neg+1\n",
    "        if(predicted[i] == 0 and actual[i] == 0):\n",
    "            true_neg = true_neg+1\n",
    "    precision = true_pos / (true_pos + false_pos)\n",
    "    recall = true_pos / (true_pos + false_neg)\n",
    "    print(\"true positive: \" + str(true_pos))\n",
    "    print(\"true negative: \" + str(true_neg))\n",
    "    print(\"false positive: \" + str(false_pos))\n",
    "    print(\"false negative: \" + str(false_neg))\n",
    "    if (precision + recall > 0):\n",
    "        return (2*precision*recall) / (precision+recall)\n",
    "    else:\n",
    "        return 0"
   ]
  },
  {
   "cell_type": "code",
   "execution_count": 9,
   "metadata": {
    "collapsed": true
   },
   "outputs": [],
   "source": [
    "def parseTestLabel(labels):\n",
    "    labels_array = labels.split(';')\n",
    "    label_dict = {}\n",
    "    for i in range (1, 11):\n",
    "        label_dict[i] = 0\n",
    "    for label in labels_array:\n",
    "        if(label is not ''):\n",
    "            key_label = (int(label)//10)+1\n",
    "            if key_label == 9:\n",
    "                label_dict[10] = 1\n",
    "            else :\n",
    "                if key_label == 10:\n",
    "                    label_dict[9] = 1\n",
    "                else:\n",
    "                    label_dict[key_label] = 1\n",
    "                \n",
    "    return label_dict\n",
    "\n",
    "def loadTestMultilabel(testFile, testLabel):\n",
    "    data_test = list(open(testFile, \"r\", encoding='latin-1').readlines())\n",
    "    data_label = list(open(testLabel, \"r\", encoding='latin-1').readlines())\n",
    "    data_temp=[]\n",
    "    label_temp=[]\n",
    "    for data in data_test:\n",
    "        data_temp.append(data.rstrip('\\n'))\n",
    "#     print(data_temp)\n",
    "    for label in data_label:\n",
    "        label_temp.append(parseTestLabel(label.strip()))\n",
    "#     print(label_temp)\n",
    "    return data_temp, label_temp"
   ]
  },
  {
   "cell_type": "code",
   "execution_count": 10,
   "metadata": {
    "collapsed": true
   },
   "outputs": [],
   "source": [
    "def loadData(testFile, testLabel):\n",
    "    pickle_in = open(testFile,\"rb\")\n",
    "    X_test = pickle.load(pickle_in)\n",
    "    pickle_in.close()\n",
    "    \n",
    "    pickle_in = open(testLabel,\"rb\")\n",
    "    Y_test = pickle.load(pickle_in)\n",
    "    pickle_in.close()\n",
    "    \n",
    "    return Xtest, Ytest"
   ]
  },
  {
   "cell_type": "code",
   "execution_count": 11,
   "metadata": {
    "collapsed": true
   },
   "outputs": [],
   "source": [
    "def loadModel(model_path, class_id):\n",
    "    # load json and create model\n",
    "    json_file = open(model_path + str(class_id) + '/model.json', 'r')\n",
    "    loaded_model_json = json_file.read()\n",
    "    json_file.close()\n",
    "    loaded_model = model_from_json(loaded_model_json)\n",
    "    \n",
    "    # load weights into new model\n",
    "    loaded_model.load_weights(model_path + str(class_id) + '/model_weights.h5')\n",
    "    print(\"Loaded model from disk\")\n",
    "    print(loaded_model.input_shape[1])\n",
    "    return loaded_model"
   ]
  },
  {
   "cell_type": "code",
   "execution_count": 12,
   "metadata": {
    "collapsed": true
   },
   "outputs": [],
   "source": [
    "def load_vocabulary(model_path):\n",
    "    pickle_in = open(model_path + \"/vocabulary.pickle\",\"rb\")\n",
    "    vocabulary = pickle.load(pickle_in)\n",
    "    pickle_in.close()\n",
    "    return vocabulary"
   ]
  },
  {
   "cell_type": "code",
   "execution_count": 16,
   "metadata": {
    "collapsed": true
   },
   "outputs": [],
   "source": [
    "def process_test_data(x_raw, y_raw, model_path):\n",
    "#     load model\n",
    "    model = {}\n",
    "    vocabulary={}\n",
    "    print(\" --- Loading model --- \")\n",
    "    for i in range(1,11):\n",
    "        model[i]=loadModel(model_path, i)\n",
    "        vocabulary[i]=load_vocabulary(model_path + str(i))\n",
    "    print(\" --- MODEL LOADED ---\")\n",
    "#     load data test\n",
    "    x_raw, y_raw = loadTestMultilabel(\"D:/ITB/S2/TESIS/cnn/dataTest110218/test_text.txt\", \"D:/ITB/S2/TESIS/cnn/dataTest110218/test_label.txt\")    \n",
    "#     print(x_raw)\n",
    "#     print(y_raw)\n",
    "#     predict test data\n",
    "    for i in range(len(x_raw)):\n",
    "        for j in range(1,11):\n",
    "            x_test, y_test = string_to_input_data([x_raw[i]], y_raw[i].get(j), vocabulary, model.get(j).input_shape[1])\n",
    "            doPredict(model.get(j), x_test, y_test)"
   ]
  },
  {
   "cell_type": "code",
   "execution_count": 17,
   "metadata": {
    "collapsed": true
   },
   "outputs": [],
   "source": [
    "def doPredict(model, x_test, y_test):\n",
    "    y_prob = model.predict(x_test) \n",
    "    print(y_prob)\n",
    "    y_classes=[]\n",
    "    for cls in y_prob:\n",
    "        if(cls[0] > cls[1]):\n",
    "            y_classes.append(0)\n",
    "        else:\n",
    "            y_classes.append(1)\n",
    "    print('predict: ' + str(y_classes))\n",
    "#     print(y_classes)\n",
    "\n",
    "    y_test_classes=[]\n",
    "    for cls in y_test:\n",
    "        print(cls)\n",
    "        if(cls[0] > cls[1]):\n",
    "            y_test_classes.append(0)\n",
    "        else:\n",
    "            y_test_classes.append(1)\n",
    "    print('actual: ' + str(y_test_classes))\n",
    "#     print(y_test_classes)\n",
    "#     print(countF1(y_classes, y_test_classes))"
   ]
  },
  {
   "cell_type": "code",
   "execution_count": null,
   "metadata": {},
   "outputs": [
    {
     "name": "stdout",
     "output_type": "stream",
     "text": [
      " --- Loading model --- \n",
      "Loaded model from disk\n",
      "1082\n",
      "Loaded model from disk\n",
      "1392\n"
     ]
    }
   ],
   "source": [
    "x_raw, y_raw = loadTestMultilabel(\"D:/ITB/S2/TESIS/cnn/dataTest110218/test_text.txt\", \"D:/ITB/S2/TESIS/cnn/dataTest110218/test_label.txt\")    \n",
    "process_test_data(x_raw, y_raw, 'model110218_newsagg/')\n",
    "\n",
    "# print(X_test)\n",
    "# print(y_test)"
   ]
  },
  {
   "cell_type": "code",
   "execution_count": null,
   "metadata": {
    "collapsed": true
   },
   "outputs": [],
   "source": []
  },
  {
   "cell_type": "code",
   "execution_count": null,
   "metadata": {
    "collapsed": true
   },
   "outputs": [],
   "source": []
  }
 ],
 "metadata": {
  "kernelspec": {
   "display_name": "Python 3",
   "language": "python",
   "name": "python3"
  },
  "language_info": {
   "codemirror_mode": {
    "name": "ipython",
    "version": 3
   },
   "file_extension": ".py",
   "mimetype": "text/x-python",
   "name": "python",
   "nbconvert_exporter": "python",
   "pygments_lexer": "ipython3",
   "version": "3.5.2"
  }
 },
 "nbformat": 4,
 "nbformat_minor": 2
}
